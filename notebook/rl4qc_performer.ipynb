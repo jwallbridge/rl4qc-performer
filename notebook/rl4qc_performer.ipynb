{
 "cells": [
  {
   "cell_type": "code",
   "execution_count": 2,
   "metadata": {
    "colab": {
     "base_uri": "https://localhost:8080/"
    },
    "executionInfo": {
     "elapsed": 24112,
     "status": "ok",
     "timestamp": 1608687752717,
     "user": {
      "displayName": "James",
      "photoUrl": "",
      "userId": "10679790991901746628"
     },
     "user_tz": -540
    },
    "id": "cMZX2nVOa-A0",
    "outputId": "cb4d2ddd-a546-4829-d429-674047412eaf"
   },
   "outputs": [
    {
     "name": "stdout",
     "output_type": "stream",
     "text": [
      "2.4.0\n"
     ]
    }
   ],
   "source": [
    "import tensorflow\n",
    "from tensorflow import keras\n",
    "\n",
    "print(tensorflow.__version__)"
   ]
  },
  {
   "cell_type": "code",
   "execution_count": 3,
   "metadata": {
    "executionInfo": {
     "elapsed": 25159,
     "status": "ok",
     "timestamp": 1608687753766,
     "user": {
      "displayName": "James",
      "photoUrl": "",
      "userId": "10679790991901746628"
     },
     "user_tz": -540
    },
    "id": "3Rl0kcEVaxQV",
    "scrolled": true
   },
   "outputs": [],
   "source": [
    "import sys\n",
    "import os \n",
    "import numpy as np\n",
    "import gym"
   ]
  },
  {
   "cell_type": "code",
   "execution_count": 8,
   "metadata": {
    "executionInfo": {
     "elapsed": 30959,
     "status": "ok",
     "timestamp": 1608687759576,
     "user": {
      "displayName": "James",
      "photoUrl": "",
      "userId": "10679790991901746628"
     },
     "user_tz": -540
    },
    "id": "1vKs4klklBFz"
   },
   "outputs": [],
   "source": [
    "from Performer_Library_Sequential import *\n",
    "from Function_Library import *\n",
    "from Environments import *"
   ]
  },
  {
   "cell_type": "code",
   "execution_count": 9,
   "metadata": {
    "executionInfo": {
     "elapsed": 36082,
     "status": "ok",
     "timestamp": 1608687764700,
     "user": {
      "displayName": "James",
      "photoUrl": "",
      "userId": "10679790991901746628"
     },
     "user_tz": -540
    },
    "id": "avkGItajaxQv",
    "scrolled": true
   },
   "outputs": [],
   "source": [
    "from rl.agents.dqn import DQNAgent\n",
    "from rl.policy import EpsGreedyQPolicy, LinearAnnealedPolicy, GreedyQPolicy\n",
    "from rl.memory import SequentialMemory\n",
    "from rl.callbacks import FileLogger\n",
    "\n",
    "import json\n",
    "import copy\n",
    "import sys\n",
    "import os\n",
    "import shutil\n",
    "import datetime\n",
    "import pickle"
   ]
  },
  {
   "cell_type": "code",
   "execution_count": 10,
   "metadata": {
    "executionInfo": {
     "elapsed": 36081,
     "status": "ok",
     "timestamp": 1608687764700,
     "user": {
      "displayName": "James",
      "photoUrl": "",
      "userId": "10679790991901746628"
     },
     "user_tz": -540
    },
    "id": "y4Bex_kOaxQ0"
   },
   "outputs": [],
   "source": [
    "fixed_configs = {\"d\": 5,\n",
    "                \"use_Y\": False,\n",
    "                \"train_freq\": 1,\n",
    "                \"batch_size\": 32,\n",
    "                \"print_freq\": 250,\n",
    "                \"rolling_average_length\": 500,\n",
    "                \"stopping_patience\": 500,\n",
    "                \"error_model\": \"X\",\n",
    "                \"c_layers\": [[64,3,2],[32,2,1],[32,2,1]],\n",
    "                \"ff_layers\": [[512,0.2]],\n",
    "                \"embed_dim\": 24,\n",
    "                \"num_heads\": 4,\n",
    "                \"ff_dim\": 24,\n",
    "                \"method\": 'linear',\n",
    "                \"supports\": 24,\n",
    "                \"d_rate\": 0.0,\n",
    "                \"transformer_depth\": 2,\n",
    "                \"max_timesteps\": 400000,\n",
    "                \"volume_depth\": 5,\n",
    "                \"testing_length\": 101,\n",
    "                \"buffer_size\": 50000,\n",
    "                \"dueling\": True,\n",
    "                \"masked_greedy\": False,\n",
    "                \"static_decoder\": True}\n",
    "\n",
    "variable_configs = {\"p_phys\": 0.001,\n",
    "                    \"p_meas\": 0.001,\n",
    "                    \"success_threshold\": 10000,\n",
    "                    \"learning_starts\": 1000,\n",
    "                    \"learning_rate\": 0.00001,\n",
    "                    \"exploration_fraction\": 100000,\n",
    "                    \"max_eps\": 1.0,\n",
    "                    \"target_network_update_freq\": 5000,\n",
    "                    \"gamma\": 0.99,\n",
    "                    \"final_eps\": 0.02}\n",
    "\n",
    "all_configs = {}\n",
    "\n",
    "for key in fixed_configs.keys():\n",
    "    all_configs[key] = fixed_configs[key]\n",
    "\n",
    "for key in variable_configs.keys():\n",
    "    all_configs[key] = variable_configs[key]"
   ]
  },
  {
   "cell_type": "code",
   "execution_count": 11,
   "metadata": {
    "executionInfo": {
     "elapsed": 45338,
     "status": "ok",
     "timestamp": 1608687773959,
     "user": {
      "displayName": "James",
      "photoUrl": "",
      "userId": "10679790991901746628"
     },
     "user_tz": -540
    },
    "id": "SAC340F5lBF0"
   },
   "outputs": [],
   "source": [
    "from keras.models import load_model\n",
    "\n",
    "static_decoder = load_model('referee_decoders/nn_d5_X_p5')                                                 \n",
    "logging_directory = os.path.join(\"./log_directory/\")\n",
    "logging_path = os.path.join(logging_directory,\"training_history.json\")\n",
    "logging_callback = FileLogger(filepath = logging_path,interval = all_configs[\"print_freq\"])"
   ]
  },
  {
   "cell_type": "code",
   "execution_count": 12,
   "metadata": {
    "executionInfo": {
     "elapsed": 45339,
     "status": "ok",
     "timestamp": 1608687773962,
     "user": {
      "displayName": "James",
      "photoUrl": "",
      "userId": "10679790991901746628"
     },
     "user_tz": -540
    },
    "id": "bOT2XHa3axQ3"
   },
   "outputs": [],
   "source": [
    "env = Surface_Code_Environment_Multi_Decoding_Cycles(d=all_configs[\"d\"], \n",
    "    p_phys=all_configs[\"p_phys\"], \n",
    "    p_meas=all_configs[\"p_meas\"],  \n",
    "    error_model=all_configs[\"error_model\"], \n",
    "    use_Y=all_configs[\"use_Y\"], \n",
    "    volume_depth=all_configs[\"volume_depth\"],\n",
    "    static_decoder=static_decoder)"
   ]
  },
  {
   "cell_type": "code",
   "execution_count": 13,
   "metadata": {
    "colab": {
     "base_uri": "https://localhost:8080/"
    },
    "executionInfo": {
     "elapsed": 45338,
     "status": "ok",
     "timestamp": 1608687773963,
     "user": {
      "displayName": "James",
      "photoUrl": "",
      "userId": "10679790991901746628"
     },
     "user_tz": -540
    },
    "id": "fv-CtCMFlBF1",
    "outputId": "f9c00c68-3aff-42d5-d64b-5376465f378d"
   },
   "outputs": [
    {
     "name": "stdout",
     "output_type": "stream",
     "text": [
      "(6, 11, 11)\n"
     ]
    }
   ],
   "source": [
    "print(env.observation_space.shape)"
   ]
  },
  {
   "cell_type": "code",
   "execution_count": 14,
   "metadata": {
    "executionInfo": {
     "elapsed": 45336,
     "status": "ok",
     "timestamp": 1608687773963,
     "user": {
      "displayName": "James",
      "photoUrl": "",
      "userId": "10679790991901746628"
     },
     "user_tz": -540
    },
    "id": "7c0t8g4faxQ6"
   },
   "outputs": [],
   "source": [
    "memory = SequentialMemory(limit=all_configs[\"buffer_size\"], window_length=1)\n",
    "\n",
    "policy = LinearAnnealedPolicy(EpsGreedyQPolicy(masked_greedy=all_configs[\"masked_greedy\"]), \n",
    "    attr='eps', value_max=all_configs[\"max_eps\"], \n",
    "    value_min=all_configs[\"final_eps\"], \n",
    "    value_test=0.0, \n",
    "    nb_steps=all_configs[\"exploration_fraction\"])\n",
    "\n",
    "test_policy = GreedyQPolicy(masked_greedy=True)"
   ]
  },
  {
   "cell_type": "code",
   "execution_count": 15,
   "metadata": {
    "colab": {
     "base_uri": "https://localhost:8080/"
    },
    "executionInfo": {
     "elapsed": 50407,
     "status": "ok",
     "timestamp": 1608687779035,
     "user": {
      "displayName": "James",
      "photoUrl": "",
      "userId": "10679790991901746628"
     },
     "user_tz": -540
    },
    "id": "RnZNJAY8a-A8",
    "outputId": "db12de92-58d8-4b95-d1d0-88a3ee1975d3"
   },
   "outputs": [
    {
     "name": "stdout",
     "output_type": "stream",
     "text": [
      "Model: \"sequential_2\"\n",
      "_________________________________________________________________\n",
      "Layer (type)                 Output Shape              Param #   \n",
      "=================================================================\n",
      "conv2d (Conv2D)              (None, 64, 5, 5)          3520      \n",
      "_________________________________________________________________\n",
      "activation (Activation)      (None, 64, 5, 5)          0         \n",
      "_________________________________________________________________\n",
      "reshape (Reshape)            (None, 5, 5, 64)          0         \n",
      "_________________________________________________________________\n",
      "dense_2 (Dense)              (None, 5, 5, 22)          1430      \n",
      "_________________________________________________________________\n",
      "lambda (Lambda)              (None, 5, 5, 24)          0         \n",
      "_________________________________________________________________\n",
      "reshape_1 (Reshape)          (None, 25, 24)            0         \n",
      "_________________________________________________________________\n",
      "transformer_block (Transform (None, 25, 24)            10824     \n",
      "_________________________________________________________________\n",
      "flatten (Flatten)            (None, 600)               0         \n",
      "_________________________________________________________________\n",
      "dense_3 (Dense)              (None, 512)               307712    \n",
      "_________________________________________________________________\n",
      "activation_1 (Activation)    (None, 512)               0         \n",
      "_________________________________________________________________\n",
      "dropout_2 (Dropout)          (None, 512)               0         \n",
      "_________________________________________________________________\n",
      "dense_4 (Dense)              (None, 26)                13338     \n",
      "_________________________________________________________________\n",
      "activation_2 (Activation)    (None, 26)                0         \n",
      "=================================================================\n",
      "Total params: 336,824\n",
      "Trainable params: 336,824\n",
      "Non-trainable params: 0\n",
      "_________________________________________________________________\n"
     ]
    }
   ],
   "source": [
    "model = build_semi_performer(all_configs[\"c_layers\"],\n",
    "                           all_configs[\"ff_layers\"],    \n",
    "                           all_configs[\"num_heads\"],    \n",
    "                           all_configs[\"embed_dim\"],\n",
    "                           all_configs[\"method\"],\n",
    "                           all_configs[\"supports\"],\n",
    "                           all_configs[\"d_rate\"],\n",
    "                           all_configs[\"transformer_depth\"],\n",
    "                           env.observation_space.shape, \n",
    "                           env.num_actions)\n",
    "\n",
    "model.summary()"
   ]
  },
  {
   "cell_type": "code",
   "execution_count": 16,
   "metadata": {
    "executionInfo": {
     "elapsed": 50916,
     "status": "ok",
     "timestamp": 1608687779546,
     "user": {
      "displayName": "James",
      "photoUrl": "",
      "userId": "10679790991901746628"
     },
     "user_tz": -540
    },
    "id": "V1gPkj0PxdID"
   },
   "outputs": [],
   "source": [
    "from tensorflow.keras.optimizers import Adam\n",
    "\n",
    "dqn = DQNAgent(model = model, \n",
    "               nb_actions = env.num_actions, \n",
    "               memory = memory, \n",
    "               nb_steps_warmup = all_configs[\"learning_starts\"], \n",
    "               target_model_update = all_configs[\"target_network_update_freq\"], \n",
    "               policy = policy,\n",
    "               test_policy = test_policy,\n",
    "               gamma = all_configs[\"gamma\"],\n",
    "               enable_dueling_network=all_configs[\"dueling\"])  \n",
    "\n",
    "\n",
    "dqn.compile(Adam(lr=all_configs[\"learning_rate\"]))"
   ]
  },
  {
   "cell_type": "code",
   "execution_count": 17,
   "metadata": {
    "colab": {
     "base_uri": "https://localhost:8080/"
    },
    "executionInfo": {
     "elapsed": 24380915,
     "status": "ok",
     "timestamp": 1608712109546,
     "user": {
      "displayName": "James",
      "photoUrl": "",
      "userId": "10679790991901746628"
     },
     "user_tz": -540
    },
    "id": "5cHf1w8VaxQ_",
    "outputId": "e957c6aa-5c5e-46cc-9142-84db4918924a",
    "scrolled": true
   },
   "outputs": [
    {
     "name": "stdout",
     "output_type": "stream",
     "text": [
      "Training for 400000 steps ...\n"
     ]
    },
    {
     "name": "stderr",
     "output_type": "stream",
     "text": [
      "/content/drive/My Drive/Colab Notebooks/KerasRLSweke/keras_rl/rl/callbacks.py:443: RuntimeWarning: Mean of empty slice\n",
      "  mean_metrics = [np.nanmean(lst, axis=0) for lst in metrics]\n"
     ]
    },
    {
     "name": "stdout",
     "output_type": "stream",
     "text": [
      "-----------------\n",
      "                \n",
      "Episode: 250\n",
      "Step: 2237/400000\n",
      "This Episode Steps: 4\n",
      "This Episode Reward: 0.0\n",
      "This Episode Duration: 0.264s\n",
      "Rolling Lifetime length: 37.320\n",
      "Best Lifetime Rolling Avg: 45.0\n",
      "Best Episode: 0\n",
      "Time Since Best: 249\n",
      "Has Succeeded: False\n",
      "Stopped Improving: False\n",
      "Metrics: mean_eps: 0.151870\n",
      "Total Training Time: 119.393s\n",
      "\n",
      "-----------------\n",
      "                \n",
      "Episode: 500\n",
      "Step: 4545/400000\n",
      "This Episode Steps: 4\n",
      "This Episode Reward: 0.0\n",
      "This Episode Duration: 0.265s\n",
      "Rolling Lifetime length: 38.750\n",
      "Best Lifetime Rolling Avg: 45.0\n",
      "Best Episode: 0\n",
      "Time Since Best: 499\n",
      "Has Succeeded: False\n",
      "Stopped Improving: False\n",
      "Metrics: mean_eps: 0.193937\n",
      "Total Training Time: 264.677s\n",
      "\n",
      "-----------------\n",
      "                \n",
      "Episode: 750\n",
      "Step: 6880/400000\n",
      "This Episode Steps: 11\n",
      "This Episode Reward: 0.0\n",
      "This Episode Duration: 0.677s\n",
      "Rolling Lifetime length: 41.230\n",
      "Best Lifetime Rolling Avg: 45.0\n",
      "Best Episode: 0\n",
      "Time Since Best: 749\n",
      "Has Succeeded: False\n",
      "Stopped Improving: False\n",
      "Metrics: mean_eps: 0.039876\n",
      "Total Training Time: 410.588s\n",
      "\n",
      "-----------------\n",
      "                \n",
      "Episode: 1000\n",
      "Step: 9247/400000\n",
      "This Episode Steps: 14\n",
      "This Episode Reward: 0.0\n",
      "This Episode Duration: 0.848s\n",
      "Rolling Lifetime length: 41.100\n",
      "Best Lifetime Rolling Avg: 45.0\n",
      "Best Episode: 0\n",
      "Time Since Best: 999\n",
      "Has Succeeded: False\n",
      "Stopped Improving: False\n",
      "Metrics: mean_eps: 0.046134\n",
      "Total Training Time: 558.156s\n",
      "\n",
      "-----------------\n",
      "                \n",
      "Episode: 1250\n",
      "Step: 11690/400000\n",
      "This Episode Steps: 4\n",
      "This Episode Reward: 2.0\n",
      "This Episode Duration: 0.266s\n",
      "Rolling Lifetime length: 42.250\n",
      "Best Lifetime Rolling Avg: 45.0\n",
      "Best Episode: 0\n",
      "Time Since Best: 1249\n",
      "Has Succeeded: False\n",
      "Stopped Improving: False\n",
      "Metrics: mean_eps: 0.041677\n",
      "Total Training Time: 706.763s\n",
      "\n",
      "-----------------\n",
      "                \n",
      "Episode: 1500\n",
      "Step: 14156/400000\n",
      "This Episode Steps: 6\n",
      "This Episode Reward: 0.0\n",
      "This Episode Duration: 0.380s\n",
      "Rolling Lifetime length: 41.490\n",
      "Best Lifetime Rolling Avg: 45.0\n",
      "Best Episode: 0\n",
      "Time Since Best: 1499\n",
      "Has Succeeded: False\n",
      "Stopped Improving: False\n",
      "Metrics: mean_eps: 0.030184\n",
      "Total Training Time: 858.066s\n",
      "\n",
      "-----------------\n",
      "                \n",
      "Episode: 1750\n",
      "Step: 16559/400000\n",
      "This Episode Steps: 13\n",
      "This Episode Reward: 0.0\n",
      "This Episode Duration: 0.769s\n",
      "Rolling Lifetime length: 41.110\n",
      "Best Lifetime Rolling Avg: 45.0\n",
      "Best Episode: 0\n",
      "Time Since Best: 1749\n",
      "Has Succeeded: False\n",
      "Stopped Improving: False\n",
      "Metrics: mean_eps: 0.035795\n",
      "Total Training Time: 1004.765s\n",
      "\n",
      "-----------------\n",
      "                \n",
      "Episode: 2000\n",
      "Step: 19005/400000\n",
      "This Episode Steps: 14\n",
      "This Episode Reward: 0.0\n",
      "This Episode Duration: 0.841s\n",
      "Rolling Lifetime length: 43.930\n",
      "Best Lifetime Rolling Avg: 45.0\n",
      "Best Episode: 0\n",
      "Time Since Best: 1999\n",
      "Has Succeeded: False\n",
      "Stopped Improving: False\n",
      "Metrics: mean_eps: 0.039674\n",
      "Total Training Time: 1154.423s\n",
      "\n",
      "-----------------\n",
      "                \n",
      "Episode: 2250\n",
      "Step: 21468/400000\n",
      "This Episode Steps: 16\n",
      "This Episode Reward: 3.0\n",
      "This Episode Duration: 0.932s\n",
      "Rolling Lifetime length: 43.250\n",
      "Best Lifetime Rolling Avg: 45.0\n",
      "Best Episode: 0\n",
      "Time Since Best: 2249\n",
      "Has Succeeded: False\n",
      "Stopped Improving: False\n",
      "Metrics: mean_eps: 0.060050\n",
      "Total Training Time: 1303.328s\n",
      "\n",
      "-----------------\n",
      "                \n",
      "Episode: 2500\n",
      "Step: 24034/400000\n",
      "This Episode Steps: 16\n",
      "This Episode Reward: 1.0\n",
      "This Episode Duration: 0.976s\n",
      "Rolling Lifetime length: 43.560\n",
      "Best Lifetime Rolling Avg: 45.0\n",
      "Best Episode: 0\n",
      "Time Since Best: 2499\n",
      "Has Succeeded: False\n",
      "Stopped Improving: False\n",
      "Metrics: mean_eps: 0.047400\n",
      "Total Training Time: 1458.609s\n",
      "\n",
      "-----------------\n",
      "                \n",
      "Episode: 2750\n",
      "Step: 26750/400000\n",
      "This Episode Steps: 4\n",
      "This Episode Reward: 0.0\n",
      "This Episode Duration: 0.252s\n",
      "Rolling Lifetime length: 44.900\n",
      "Best Lifetime Rolling Avg: 45.78\n",
      "Best Episode: 2708\n",
      "Time Since Best: 41\n",
      "Has Succeeded: False\n",
      "Stopped Improving: False\n",
      "Metrics: mean_eps: 0.041818\n",
      "Total Training Time: 1622.710s\n",
      "\n",
      "-----------------\n",
      "                \n",
      "Episode: 3000\n",
      "Step: 29431/400000\n",
      "This Episode Steps: 12\n",
      "This Episode Reward: 2.0\n",
      "This Episode Duration: 0.749s\n",
      "Rolling Lifetime length: 46.290\n",
      "Best Lifetime Rolling Avg: 46.35\n",
      "Best Episode: 2968\n",
      "Time Since Best: 31\n",
      "Has Succeeded: False\n",
      "Stopped Improving: False\n",
      "Metrics: mean_eps: 0.038048\n",
      "Total Training Time: 1789.216s\n",
      "\n",
      "-----------------\n",
      "                \n",
      "Episode: 3250\n",
      "Step: 32428/400000\n",
      "This Episode Steps: 5\n",
      "This Episode Reward: 1.0\n",
      "This Episode Duration: 0.335s\n",
      "Rolling Lifetime length: 51.150\n",
      "Best Lifetime Rolling Avg: 51.27\n",
      "Best Episode: 3246\n",
      "Time Since Best: 3\n",
      "Has Succeeded: False\n",
      "Stopped Improving: False\n",
      "Metrics: mean_eps: 0.054384\n",
      "Total Training Time: 1974.812s\n",
      "\n",
      "-----------------\n",
      "                \n",
      "Episode: 3500\n",
      "Step: 35307/400000\n",
      "This Episode Steps: 12\n",
      "This Episode Reward: 3.0\n",
      "This Episode Duration: 0.752s\n",
      "Rolling Lifetime length: 55.000\n",
      "Best Lifetime Rolling Avg: 55.46\n",
      "Best Episode: 3478\n",
      "Time Since Best: 21\n",
      "Has Succeeded: False\n",
      "Stopped Improving: False\n",
      "Metrics: mean_eps: 0.055654\n",
      "Total Training Time: 2155.209s\n",
      "\n",
      "-----------------\n",
      "                \n",
      "Episode: 3750\n",
      "Step: 38351/400000\n",
      "This Episode Steps: 7\n",
      "This Episode Reward: 2.0\n",
      "This Episode Duration: 0.453s\n",
      "Rolling Lifetime length: 55.780\n",
      "Best Lifetime Rolling Avg: 57.2\n",
      "Best Episode: 3707\n",
      "Time Since Best: 42\n",
      "Has Succeeded: False\n",
      "Stopped Improving: False\n",
      "Metrics: mean_eps: 0.061382\n",
      "Total Training Time: 2345.567s\n",
      "\n",
      "-----------------\n",
      "                \n",
      "Episode: 4000\n",
      "Step: 41447/400000\n",
      "This Episode Steps: 9\n",
      "This Episode Reward: 0.0\n",
      "This Episode Duration: 0.563s\n",
      "Rolling Lifetime length: 55.620\n",
      "Best Lifetime Rolling Avg: 57.2\n",
      "Best Episode: 3707\n",
      "Time Since Best: 292\n",
      "Has Succeeded: False\n",
      "Stopped Improving: False\n",
      "Metrics: mean_eps: 0.064404\n",
      "Total Training Time: 2541.127s\n",
      "\n",
      "-----------------\n",
      "                \n",
      "Episode: 4250\n",
      "Step: 44757/400000\n",
      "This Episode Steps: 6\n",
      "This Episode Reward: 1.0\n",
      "This Episode Duration: 0.399s\n",
      "Rolling Lifetime length: 58.720\n",
      "Best Lifetime Rolling Avg: 58.98\n",
      "Best Episode: 4245\n",
      "Time Since Best: 4\n",
      "Has Succeeded: False\n",
      "Stopped Improving: False\n",
      "Metrics: mean_eps: 0.062652\n",
      "Total Training Time: 2754.358s\n",
      "\n",
      "-----------------\n",
      "                \n",
      "Episode: 4500\n",
      "Step: 48284/400000\n",
      "This Episode Steps: 10\n",
      "This Episode Reward: 4.0\n",
      "This Episode Duration: 0.613s\n",
      "Rolling Lifetime length: 65.900\n",
      "Best Lifetime Rolling Avg: 66.22\n",
      "Best Episode: 4495\n",
      "Time Since Best: 4\n",
      "Has Succeeded: False\n",
      "Stopped Improving: False\n",
      "Metrics: mean_eps: 0.068013\n",
      "Total Training Time: 2973.426s\n",
      "\n",
      "-----------------\n",
      "                \n",
      "Episode: 4750\n",
      "Step: 51951/400000\n",
      "This Episode Steps: 35\n",
      "This Episode Reward: 10.0\n",
      "This Episode Duration: 2.098s\n",
      "Rolling Lifetime length: 70.440\n",
      "Best Lifetime Rolling Avg: 70.44\n",
      "Best Episode: 4749\n",
      "Time Since Best: 0\n",
      "Has Succeeded: False\n",
      "Stopped Improving: False\n",
      "Metrics: mean_eps: 0.102815\n",
      "Total Training Time: 3200.448s\n",
      "\n",
      "-----------------\n",
      "                \n",
      "Episode: 5000\n",
      "Step: 56237/400000\n",
      "This Episode Steps: 17\n",
      "This Episode Reward: 3.0\n",
      "This Episode Duration: 1.113s\n",
      "Rolling Lifetime length: 78.240\n",
      "Best Lifetime Rolling Avg: 78.54\n",
      "Best Episode: 4987\n",
      "Time Since Best: 12\n",
      "Has Succeeded: False\n",
      "Stopped Improving: False\n",
      "Metrics: mean_eps: 0.097739\n",
      "Total Training Time: 3472.491s\n",
      "\n",
      "-----------------\n",
      "                \n",
      "Episode: 5250\n",
      "Step: 61047/400000\n",
      "This Episode Steps: 21\n",
      "This Episode Reward: 7.0\n",
      "This Episode Duration: 1.254s\n",
      "Rolling Lifetime length: 95.060\n",
      "Best Lifetime Rolling Avg: 95.21\n",
      "Best Episode: 5245\n",
      "Time Since Best: 4\n",
      "Has Succeeded: False\n",
      "Stopped Improving: False\n",
      "Metrics: mean_eps: 0.103051\n",
      "Total Training Time: 3770.748s\n",
      "\n",
      "-----------------\n",
      "                \n",
      "Episode: 5500\n",
      "Step: 67080/400000\n",
      "This Episode Steps: 8\n",
      "This Episode Reward: 1.0\n",
      "This Episode Duration: 0.502s\n",
      "Rolling Lifetime length: 122.270\n",
      "Best Lifetime Rolling Avg: 122.45\n",
      "Best Episode: 5497\n",
      "Time Since Best: 2\n",
      "Has Succeeded: False\n",
      "Stopped Improving: False\n",
      "Metrics: mean_eps: 0.103420\n",
      "Total Training Time: 4137.273s\n",
      "\n",
      "-----------------\n",
      "                \n",
      "Episode: 5750\n",
      "Step: 75813/400000\n",
      "This Episode Steps: 52\n",
      "This Episode Reward: 25.0\n",
      "This Episode Duration: 3.040s\n",
      "Rolling Lifetime length: 190.070\n",
      "Best Lifetime Rolling Avg: 190.07\n",
      "Best Episode: 5749\n",
      "Time Since Best: 0\n",
      "Has Succeeded: False\n",
      "Stopped Improving: False\n",
      "Metrics: mean_eps: 0.131710\n",
      "Total Training Time: 4661.495s\n",
      "\n",
      "-----------------\n",
      "                \n",
      "Episode: 6000\n",
      "Step: 94423/400000\n",
      "This Episode Steps: 42\n",
      "This Episode Reward: 17.0\n",
      "This Episode Duration: 2.462s\n",
      "Rolling Lifetime length: 470.710\n",
      "Best Lifetime Rolling Avg: 470.71\n",
      "Best Episode: 5999\n",
      "Time Since Best: 0\n",
      "Has Succeeded: False\n",
      "Stopped Improving: False\n",
      "Metrics: mean_eps: 0.141643\n",
      "Total Training Time: 5770.996s\n",
      "\n",
      "-----------------\n",
      "                \n",
      "Episode: 6250\n",
      "Step: 210622/400000\n",
      "This Episode Steps: 104\n",
      "This Episode Reward: 69.0\n",
      "This Episode Duration: 6.401s\n",
      "Rolling Lifetime length: 3382.990\n",
      "Best Lifetime Rolling Avg: 3382.99\n",
      "Best Episode: 6249\n",
      "Time Since Best: 0\n",
      "Has Succeeded: False\n",
      "Stopped Improving: False\n",
      "Metrics: mean_eps: 0.161100\n",
      "Total Training Time: 12831.898s\n",
      "\n",
      "-----------------\n",
      "                \n",
      "Episode: 6500\n",
      "Step: 398773/400000\n",
      "This Episode Steps: 752\n",
      "This Episode Reward: 659.0\n",
      "This Episode Duration: 45.490s\n",
      "Rolling Lifetime length: 8014.120\n",
      "Best Lifetime Rolling Avg: 8014.12\n",
      "Best Episode: 6499\n",
      "Time Since Best: 0\n",
      "Has Succeeded: False\n",
      "Stopped Improving: False\n",
      "Metrics: mean_eps: 0.452736\n",
      "Total Training Time: 24254.950s\n",
      "\n",
      "Training Finished in 24329.705 seconds\n",
      "        \n",
      "Final Step: 400000\n",
      "Succeeded: False\n",
      "Stopped_Improving: False\n",
      "Final Episode Lifetimes Rolling Avg: 8037.210\n"
     ]
    }
   ],
   "source": [
    "now = datetime.datetime.now()\n",
    "started_file = os.path.join(logging_directory,\"started_at.p\")\n",
    "pickle.dump(now, open(started_file, \"wb\" ) )\n",
    "\n",
    "history = dqn.fit(env, \n",
    "  nb_steps=all_configs[\"max_timesteps\"], \n",
    "  action_repetition=1, \n",
    "  callbacks=[logging_callback], \n",
    "  verbose=2,\n",
    "  visualize=False, \n",
    "  nb_max_start_steps=0, \n",
    "  start_step_policy=None, \n",
    "  log_interval=all_configs[\"print_freq\"],\n",
    "  nb_max_episode_steps=None, \n",
    "  episode_averaging_length=all_configs[\"rolling_average_length\"], \n",
    "  success_threshold=all_configs[\"success_threshold\"],\n",
    "  stopping_patience=all_configs[\"stopping_patience\"],\n",
    "  min_nb_steps=all_configs[\"exploration_fraction\"],\n",
    "  single_cycle=False)"
   ]
  },
  {
   "cell_type": "code",
   "execution_count": 18,
   "metadata": {
    "executionInfo": {
     "elapsed": 24380915,
     "status": "ok",
     "timestamp": 1608712109547,
     "user": {
      "displayName": "James",
      "photoUrl": "",
      "userId": "10679790991901746628"
     },
     "user_tz": -540
    },
    "id": "nd0Y3IG0axRC"
   },
   "outputs": [],
   "source": [
    "weights_file = os.path.join(logging_directory, \"dqn_attention_weights.h5f\")\n",
    "dqn.save_weights(weights_file, overwrite=True)"
   ]
  },
  {
   "cell_type": "code",
   "execution_count": 19,
   "metadata": {
    "colab": {
     "base_uri": "https://localhost:8080/",
     "height": 458
    },
    "executionInfo": {
     "elapsed": 24380914,
     "status": "ok",
     "timestamp": 1608712109548,
     "user": {
      "displayName": "James",
      "photoUrl": "",
      "userId": "10679790991901746628"
     },
     "user_tz": -540
    },
    "id": "8q8db4d2axRF",
    "outputId": "8a6937f2-8c93-4d19-a870-1904b9277960"
   },
   "outputs": [
    {
     "data": {
      "image/png": "[encoded data removed]",
      "text/plain": [
       "<Figure size 864x504 with 1 Axes>"
      ]
     },
     "metadata": {
      "needs_background": "light",
      "tags": []
     },
     "output_type": "display_data"
    }
   ],
   "source": [
    "from matplotlib import pyplot as plt\n",
    "%matplotlib inline\n",
    "\n",
    "training_history = history.history[\"episode_lifetimes_rolling_avg\"]\n",
    "\n",
    "plt.figure(figsize=(12,7))\n",
    "plt.plot(training_history)\n",
    "plt.xlabel('Episode')\n",
    "plt.ylabel('Rolling Average Qubit Lifetime')\n",
    "_ = plt.title(\"Training History\")"
   ]
  },
  {
   "cell_type": "code",
   "execution_count": 19,
   "metadata": {
    "executionInfo": {
     "elapsed": 24380913,
     "status": "ok",
     "timestamp": 1608712109549,
     "user": {
      "displayName": "James",
      "photoUrl": "",
      "userId": "10679790991901746628"
     },
     "user_tz": -540
    },
    "id": "WPiBJZz9VNlK"
   },
   "outputs": [],
   "source": []
  }
 ],
 "metadata": {
  "accelerator": "GPU",
  "colab": {
   "collapsed_sections": [],
   "machine_shape": "hm",
   "name": "Performer_colab_v3.ipynb",
   "provenance": []
  },
  "kernelspec": {
   "display_name": "Python 3",
   "language": "python",
   "name": "python3"
  },
  "language_info": {
   "codemirror_mode": {
    "name": "ipython",
    "version": 3
   },
   "file_extension": ".py",
   "mimetype": "text/x-python",
   "name": "python",
   "nbconvert_exporter": "python",
   "pygments_lexer": "ipython3",
   "version": "3.9.5"
  }
 },
 "nbformat": 4,
 "nbformat_minor": 1
}
